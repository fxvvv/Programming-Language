{
 "cells": [
  {
   "cell_type": "code",
   "execution_count": 5,
   "metadata": {},
   "outputs": [
    {
     "name": "stdout",
     "output_type": "stream",
     "text": [
      "mjj 3\n",
      "ddd 2\n",
      "Hello, dog, type: 藏獒 <__main__.Dog object at 0x0000016C53FDCA90>\n",
      "<__main__.Dog object at 0x0000016C53FDCA90>\n"
     ]
    }
   ],
   "source": [
    "# 2024-01-24 Bilibili Study\n",
    "\n",
    "class Dog:\n",
    "    d_type = 'JB' # 公共属性、类变量：改变某一个实例中的该值，其他实例的该值都会改变\n",
    "\n",
    "    def __init__(self, name, age): # 初始化方法，构建函数，实例化时会自动执行\n",
    "        print(name, age)\n",
    "        self.name = name # 私有属性、实例变量，存在于每个实例自己的内存空间里\n",
    "        self.age  = age\n",
    "         \n",
    "\n",
    "    def say_hi(self): # 方法：第一个参数必须是self，self代表实例本身，也可以叫this、that\n",
    "        print(\"Hello, dog, type:\", self.d_type, self)\n",
    "\n",
    "d = Dog(\"mjj\", 3)\n",
    "d2 = Dog(\"ddd\", 2) # 生成了一个实例\n",
    "\n",
    "\n",
    "Dog.d_type = \"藏獒\"\n",
    "d.say_hi()\n",
    "print(d)\n"
   ]
  },
  {
   "cell_type": "code",
   "execution_count": 6,
   "metadata": {},
   "outputs": [],
   "source": [
    "d.sex = \"male\" # 也可以将属性参数传入Class"
   ]
  },
  {
   "cell_type": "code",
   "execution_count": 8,
   "metadata": {},
   "outputs": [
    {
     "name": "stdout",
     "output_type": "stream",
     "text": [
      "金毛 藏獒\n"
     ]
    }
   ],
   "source": [
    "d2.d_type = \"金毛\" # 相当于给d2实例创建了一个新实例属性，不会影响到Dog类中其他实例的公共属性\n",
    "print(d2.d_type, d.d_type)"
   ]
  },
  {
   "cell_type": "markdown",
   "metadata": {},
   "source": [
    "#### 类与类之间的关系"
   ]
  },
  {
   "cell_type": "code",
   "execution_count": 12,
   "metadata": {},
   "outputs": [
    {
     "name": "stdout",
     "output_type": "stream",
     "text": [
      "hello, dog\n",
      "Dog [mjj] bite person [f], remain life[70].\n",
      "1\n"
     ]
    }
   ],
   "source": [
    "class Dog:\n",
    "    role = \"dog\"\n",
    "\n",
    "    def __init__(self, name, breed, attack_val):\n",
    "        self.name = name\n",
    "        self.breed = breed\n",
    "        self.attack_val = attack_val\n",
    "        self.life_val = 100\n",
    "        self.sayhi()\n",
    "\n",
    "    def sayhi(self):\n",
    "        print(\"hello, dog\")\n",
    "\n",
    "    def bite(self, person):\n",
    "        person.life_val -= self.attack_val\n",
    "        print(\"Dog [%s] bite person [%s], remain life[%s].\"%(self.name, person.name, person.life_val))\n",
    "\n",
    "class Person:\n",
    "    role = \"person\"\n",
    "\n",
    "    def __init__(self, name, attack_val):\n",
    "        self.name = name \n",
    "        self.attack_val = attack_val\n",
    "        self.life_val = 100\n",
    "    \n",
    "    def attack(self, dog):\n",
    "        dog.life_val -= self.attack_val\n",
    "        print(1)\n",
    "\n",
    "d1 = Dog(\"mjj\", \"jm\", 30)\n",
    "p1 = Person('f', 50)\n",
    "\n",
    "d1.bite((p1))\n",
    "p1.attack(d1)\n"
   ]
  },
  {
   "cell_type": "markdown",
   "metadata": {},
   "source": [
    "依赖关系，关联关系，组合关系，聚合关系，继承关系"
   ]
  },
  {
   "cell_type": "code",
   "execution_count": 14,
   "metadata": {},
   "outputs": [
    {
     "name": "stdout",
     "output_type": "stream",
     "text": [
      "hello, i'm [f]'s dog\n"
     ]
    }
   ],
   "source": [
    "# 依赖关系\n",
    "class Dog:\n",
    "    role = \"dog\"\n",
    "\n",
    "    def __init__(self, name, breed, attack_val, master):\n",
    "        self.name = name\n",
    "        self.breed = breed\n",
    "        self.attack_val = attack_val\n",
    "        self.life_val = 100\n",
    "        self.master = master # 绑定了别的类实例\n",
    "        self.sayhi()\n",
    "\n",
    "    def sayhi(self):\n",
    "        print(\"hello, i'm [%s]'s dog\"%(self.master.name))\n",
    "\n",
    "    def bite(self, person):\n",
    "        person.life_val -= self.attack_val\n",
    "        print(\"Dog [%s] bite person [%s], remain life[%s].\"%(self.name, person.name, person.life_val))\n",
    "\n",
    "class Person:\n",
    "    role = \"person\"\n",
    "\n",
    "    def __init__(self, name, attack_val):\n",
    "        self.name = name \n",
    "        self.attack_val = attack_val\n",
    "        self.life_val = 100\n",
    "    \n",
    "    def attack(self, dog):\n",
    "        dog.life_val -= self.attack_val\n",
    "        print(1)\n",
    "\n",
    "p1 = Person('f', 50)\n",
    "d1 = Dog(\"mjj\", \"jm\", 30, p1)"
   ]
  },
  {
   "cell_type": "code",
   "execution_count": 21,
   "metadata": {},
   "outputs": [
    {
     "name": "stdout",
     "output_type": "stream",
     "text": [
      "1\n",
      "[<__main__.Person object at 0x0000016C55E13FD0>, <__main__.Person object at 0x0000016C55E130A0>]\n"
     ]
    }
   ],
   "source": [
    "# 关联关系\n",
    "# p1.a = p2\n",
    "# p2.a = p1\n",
    "\n",
    "class Relationship:\n",
    "    def __init__(self):\n",
    "        self.couple = []\n",
    "    \n",
    "    def make_couple(self, obj1, obj2):\n",
    "        self.couple = [obj1, obj2]\n",
    "        print(1)\n",
    "\n",
    "class Person:\n",
    "    role = \"person\"\n",
    "\n",
    "    def __init__(self, name, sex, relation):\n",
    "        self.name = name \n",
    "        self.sex = sex\n",
    "        self.relation = relation\n",
    "        self.life_val = 100\n",
    "    \n",
    "relation_obj = Relationship()\n",
    "p1 = Person(\"f\", \"F\", relation_obj)\n",
    "p2 = Person(\"x\", \"M\", relation_obj)\n",
    "\n",
    "\n",
    "relation_obj.make_couple(p1, p2) # 类实例更新，p1\\p2中存储的也会对应更新\n",
    "                                #（所以其实类似于指针，只是存储了类实例的内存位置信息）\n",
    "\n",
    "print(p1.relation.couple)\n"
   ]
  },
  {
   "cell_type": "code",
   "execution_count": 1,
   "metadata": {},
   "outputs": [],
   "source": [
    "# 组合关系\n",
    "# 由一堆组件构成一个完整实体，组件本身独立，但不能自己运行\n",
    "\n",
    "class Weapon:\n",
    "    \"\"\"武器\"\"\"\n",
    "\n",
    "    def gun(self, obj):\n",
    "        self.hit = 50\n",
    "        obj.life_val -= self.hit\n",
    "\n",
    "    def a(self, obj):\n",
    "        self.hit = 10\n",
    "        obj.life_val -= self.hit\n",
    "\n",
    "class Person:\n",
    "    role = \"person\"\n",
    "\n",
    "    def __init__(self, name):\n",
    "        self.name = name \n",
    "        self.life_val = 100\n",
    "        self.weapon = Weapon() # 生成Person实例的同时就会生成一个Weapon实例\n",
    "    \n",
    "    def attack(self, dog):\n",
    "        dog.life_val -= self.weapon.hit\n",
    "        print(1)\n",
    "    "
   ]
  },
  {
   "cell_type": "code",
   "execution_count": 12,
   "metadata": {},
   "outputs": [
    {
     "name": "stdout",
     "output_type": "stream",
     "text": [
      "dx is eating\n",
      "dx is eating\n",
      "人在优雅地吃\n"
     ]
    }
   ],
   "source": [
    "# 继承关系\n",
    "class Animal:\n",
    "    a_type = \"burudongwu\"\n",
    "\n",
    "    def __init__(self, name, age, sex):\n",
    "        self.name = name \n",
    "        self.age = age\n",
    "        self.sex = sex\n",
    "\n",
    "    def eat(self):\n",
    "        print(\"%s is eating\" % self.name)\n",
    "\n",
    "class Person(Animal): # 继承了Animal父类\n",
    "    a_type = \"高等动物\"\n",
    "    \n",
    "    # __init__方法也可以重写\n",
    "    def __init__(self, name, age, sex, hobbie):\n",
    "        super(Person, self).__init__(name, age, sex) # 仍然继承父类的init方法，也可以不写这个直接重写init方法 # (Person, self)这两参数可以不用写\n",
    "        # Animal.__init__(self, name, age, sex) # 与上一句代码一个作用\n",
    "        self.hobbie = hobbie\n",
    "\n",
    "    def talk(self):\n",
    "        print(\"person %s is talking\" % self.name)\n",
    "\n",
    "    def eat(self): # 改写了父类的eat 方法\n",
    "        Animal.eat(self) # 不完全改写父类的eat方法，而是先运行运行父类的eat方法，再运行子类的eat方法\n",
    "        super().eat() # 与上一句代码效果相同\n",
    "        print(\"人在优雅地吃\")\n",
    "\n",
    "p1 = Person(\"dx\", 24, \"f\", \"ball\")\n",
    "p1.eat()"
   ]
  },
  {
   "cell_type": "code",
   "execution_count": 21,
   "metadata": {},
   "outputs": [
    {
     "name": "stdout",
     "output_type": "stream",
     "text": [
      "孙悟空玩金箍棒\n",
      "神仙都会飞\n",
      "猴子吃桃子\n",
      "神仙打架\n"
     ]
    }
   ],
   "source": [
    "# 多继承（python，C++支持，java不支持）\n",
    "class ShenXian:\n",
    "    def fly(self):\n",
    "        print(\"神仙都会飞\")\n",
    "    \n",
    "    def fight(self):\n",
    "        print(\"神仙打架\")\n",
    "    \n",
    "class Monkey:\n",
    "    def eat_peach(self):\n",
    "        print(\"猴子吃桃子\")\n",
    "\n",
    "    def fight(self):\n",
    "        print(\"猴子打架\")\n",
    "\n",
    "class MonkeyKing(ShenXian, Monkey): # 按顺序从左到右继承，先继承的同名方法是最后的方法\n",
    "    def play_goden_stick(self):\n",
    "        print(\"孙悟空玩金箍棒\")\n",
    "\n",
    "m = MonkeyKing()\n",
    "m.play_goden_stick()\n",
    "m.fly()\n",
    "m.eat_peach()\n",
    "m.fight()\n"
   ]
  },
  {
   "cell_type": "code",
   "execution_count": 28,
   "metadata": {},
   "outputs": [
    {
     "name": "stdout",
     "output_type": "stream",
     "text": [
      "孙悟空玩金箍棒\n",
      "神仙都会飞\n",
      "猴子吃桃子\n",
      "猿猴在打架\n",
      "[<class '__main__.MonkeyKing'>, <class '__main__.Monkey'>, <class '__main__.MonkeyBase'>, <class '__main__.ShenXian'>, <class 'object'>]\n"
     ]
    }
   ],
   "source": [
    "# 多重继承\n",
    "class ShenXian:\n",
    "    def fly(self):\n",
    "        print(\"神仙都会飞\")\n",
    "    \n",
    "    def fight(self):\n",
    "        print(\"神仙打架\")\n",
    "\n",
    "class MonkeyBase:\n",
    "    def fight(self):\n",
    "        print(\"猿猴在打架\")    \n",
    "\n",
    "class Monkey(MonkeyBase):\n",
    "    def eat_peach(self):\n",
    "        print(\"猴子吃桃子\")\n",
    "\n",
    "    # def fight(self):\n",
    "        # print(\"猴子打架\")\n",
    "\n",
    "class MonkeyKing(Monkey, ShenXian): # 按顺序从左到右继承，先继承的同名方法是最后的方法\n",
    "    def play_goden_stick(self):\n",
    "        print(\"孙悟空玩金箍棒\")\n",
    "\n",
    "m = MonkeyKing()\n",
    "m.play_goden_stick()\n",
    "m.fly()\n",
    "m.eat_peach()\n",
    "m.fight() # 方法的查找路径是C3算法\n",
    "print(MonkeyKing.mro()) # MonkeyKing类的继承顺序，即找某个方法函数的寻找路径"
   ]
  },
  {
   "cell_type": "code",
   "execution_count": null,
   "metadata": {},
   "outputs": [],
   "source": [
    "class A: # 经典类\n",
    "    pass\n",
    "\n",
    "class B(object): # 新式类 # object是所有类的最原始的父类 # python3默认所有类的生成都是新式类\n",
    "    pass"
   ]
  },
  {
   "cell_type": "code",
   "execution_count": 34,
   "metadata": {},
   "outputs": [
    {
     "name": "stdout",
     "output_type": "stream",
     "text": [
      "life_val: 100\n"
     ]
    },
    {
     "data": {
      "text/plain": [
       "100"
      ]
     },
     "execution_count": 34,
     "metadata": {},
     "output_type": "execute_result"
    }
   ],
   "source": [
    "# 类的特性：类的封装\n",
    "# 封装的作用：类实例不想被外部访问获取或修改的数据或方法，封装在类实例的内部\n",
    "class Person:\n",
    "    role = \"person\"\n",
    "\n",
    "    def __init__(self, name):\n",
    "        self.name = name # 实例变量\n",
    "        self.__life_val = 100 # 私有变量，私有属性, 加俩下划线\n",
    "    \n",
    "    def attack(self, dog):\n",
    "        dog.life_val -= self.weapon.hit\n",
    "        print(1)\n",
    "\n",
    "    def get_life_val(self): # 通过实例内部的方法才能操作私有属性，即私有属性的封装\n",
    "        print(\"life_val:\", self.__life_val) # 实例内部可以访问私有变量\n",
    "        return self.__life_val\n",
    "    \n",
    "    def __breath(self): # 变私有方法\n",
    "        print(\"%s is breathing\" % self.name)\n",
    "\n",
    "p1 = Person('mjj')\n",
    "# p1.__life_val   # 'Person' object has no attribute '__life_val'\n",
    "p1.get_life_val()"
   ]
  },
  {
   "cell_type": "code",
   "execution_count": 38,
   "metadata": {},
   "outputs": [
    {
     "name": "stdout",
     "output_type": "stream",
     "text": [
      "mjj is breathing\n",
      "life_val: 10\n"
     ]
    },
    {
     "data": {
      "text/plain": [
       "10"
      ]
     },
     "execution_count": 38,
     "metadata": {},
     "output_type": "execute_result"
    }
   ],
   "source": [
    "# p1.__breath()   # 不可访问：'Person' object has no attribute '__breath'\n",
    "\n",
    "# 强行访问封装的函数：实例名._类名+方法名()\n",
    "p1._Person__breath()\n",
    "p1._Person__life_val = 10\n",
    "p1.get_life_val()"
   ]
  },
  {
   "cell_type": "code",
   "execution_count": 39,
   "metadata": {},
   "outputs": [
    {
     "name": "stdout",
     "output_type": "stream",
     "text": [
      "www\n",
      "mmm\n"
     ]
    }
   ],
   "source": [
    "# 类的特性：多态\n",
    "# 多个对象共用同一个接口，但表现的形态不一样\n",
    "class Dog:\n",
    "    def sound(self):\n",
    "        print(\"www\")\n",
    "\n",
    "class Cat:\n",
    "    def sound(self):\n",
    "        print(\"mmm\")\n",
    "\n",
    "def make_sound(animal_obj):\n",
    "    \"\"\"调用统一接口\"\"\"\n",
    "    animal_obj.sound()\n",
    "\n",
    "d = Dog()\n",
    "c = Cat()\n",
    "\n",
    "make_sound(d)\n",
    "make_sound(c)"
   ]
  },
  {
   "cell_type": "markdown",
   "metadata": {},
   "source": [
    "类方法和静态方法"
   ]
  },
  {
   "cell_type": "code",
   "execution_count": 6,
   "metadata": {},
   "outputs": [
    {
     "name": "stdout",
     "output_type": "stream",
     "text": [
      "stupid dog is eating\n"
     ]
    }
   ],
   "source": [
    "# 类方法\n",
    "# 类方法通过@classmethod装饰器实现，类方法和普通方法的区别在，类方法只能访问类变量，不能访问实例变量\n",
    "class Dog(object):\n",
    "    name2 = \"stupid dog\"\n",
    "\n",
    "    def __init__(self, name):\n",
    "        self.name = name\n",
    "\n",
    "    @classmethod\n",
    "    def eat(self): # @classmethod下，传进来的self参数是Dog类，不是实例本身\n",
    "        print(\"%s is eating\" % self.name2)   # self.name会报错, self.name2不会（因为是类变量）\n",
    "\n",
    "    \n",
    "\n",
    "d = Dog(\"mjj\")\n",
    "d.eat()"
   ]
  },
  {
   "cell_type": "code",
   "execution_count": 8,
   "metadata": {},
   "outputs": [
    {
     "name": "stdout",
     "output_type": "stream",
     "text": [
      "k is flying\n",
      "student walking\n"
     ]
    }
   ],
   "source": [
    "# 静态方法\n",
    "# 通过@staticmethod装饰器实现，既不能访问类变量，也不能访问实例变量\n",
    "# 相当于该方法跟类和实例隔离开了\n",
    "class Student(object):\n",
    "    role = \"Stu\"\n",
    "\n",
    "    def __init__(self, name):\n",
    "        self.name = name\n",
    "    \n",
    "    @staticmethod\n",
    "    def fly(self):\n",
    "        print(self.name, \"is flying\")\n",
    "\n",
    "    @staticmethod\n",
    "    def walk():\n",
    "        print(\"student walking\")\n",
    "\n",
    "s = Student(\"k\")\n",
    "s.fly(s) # 不传s就会报错，与类隔离了，不会自动传参数self\n",
    "s.walk()"
   ]
  },
  {
   "cell_type": "code",
   "execution_count": 20,
   "metadata": {},
   "outputs": [
    {
     "name": "stdout",
     "output_type": "stream",
     "text": [
      "k is flying 0\n",
      "chaning fly status... 1\n",
      "k is flying 0\n",
      "None\n"
     ]
    }
   ],
   "source": [
    "# 属性方法Property：把一个方法变成一个静态的属性\n",
    "class Student(object):\n",
    "    role = \"Stu\"\n",
    "\n",
    "    def __init__(self, name):\n",
    "        self.name = name\n",
    "    \n",
    "    def get_status(self):\n",
    "        return 0\n",
    "\n",
    "    @property\n",
    "    def fly(self):\n",
    "        status = self.get_status()\n",
    "        print(self.name, \"is flying\", status)\n",
    "\n",
    "    @fly.setter # 可以理解成将上面定义的property作为一个有值的attribute来修改\n",
    "    def fly(self, status):\n",
    "        print(\"chaning fly status...\", status)\n",
    "\n",
    "s = Student(\"k\")\n",
    "s.fly # 调用方式有变化，不能加括号\n",
    "s.fly = 1\n",
    "print(s.fly)"
   ]
  },
  {
   "cell_type": "code",
   "execution_count": null,
   "metadata": {},
   "outputs": [],
   "source": []
  }
 ],
 "metadata": {
  "kernelspec": {
   "display_name": "base",
   "language": "python",
   "name": "python3"
  },
  "language_info": {
   "codemirror_mode": {
    "name": "ipython",
    "version": 3
   },
   "file_extension": ".py",
   "mimetype": "text/x-python",
   "name": "python",
   "nbconvert_exporter": "python",
   "pygments_lexer": "ipython3",
   "version": "3.9.7"
  }
 },
 "nbformat": 4,
 "nbformat_minor": 2
}
